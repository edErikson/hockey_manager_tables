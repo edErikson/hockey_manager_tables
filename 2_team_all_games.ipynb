{
 "cells": [
  {
   "cell_type": "code",
   "execution_count": 18,
   "metadata": {},
   "outputs": [],
   "source": [
    "import pandas as pd\n",
    "import numpy as np"
   ]
  },
  {
   "cell_type": "code",
   "execution_count": 2,
   "metadata": {},
   "outputs": [],
   "source": [
    "# read raw data\n",
    "col_names = ['date', 'game_type', 'home_t', 'ht_id', 'game_result', 'game_id', 'away_t', 'at_id']\n",
    "df = pd.read_csv('raw_data/HA_season_games_calendar.csv',names=col_names)"
   ]
  },
  {
   "cell_type": "code",
   "execution_count": 6,
   "metadata": {},
   "outputs": [
    {
     "data": {
      "text/html": [
       "<div>\n",
       "<style scoped>\n",
       "    .dataframe tbody tr th:only-of-type {\n",
       "        vertical-align: middle;\n",
       "    }\n",
       "\n",
       "    .dataframe tbody tr th {\n",
       "        vertical-align: top;\n",
       "    }\n",
       "\n",
       "    .dataframe thead th {\n",
       "        text-align: right;\n",
       "    }\n",
       "</style>\n",
       "<table border=\"1\" class=\"dataframe\">\n",
       "  <thead>\n",
       "    <tr style=\"text-align: right;\">\n",
       "      <th></th>\n",
       "      <th>date</th>\n",
       "      <th>game_type</th>\n",
       "      <th>home_t</th>\n",
       "      <th>ht_id</th>\n",
       "      <th>game_result</th>\n",
       "      <th>game_id</th>\n",
       "      <th>away_t</th>\n",
       "      <th>at_id</th>\n",
       "    </tr>\n",
       "  </thead>\n",
       "  <tbody>\n",
       "    <tr>\n",
       "      <th>0</th>\n",
       "      <td>23.06 - 21:00</td>\n",
       "      <td>Friendly</td>\n",
       "      <td>HC Jelgava Stars</td>\n",
       "      <td>['team_id=42152']</td>\n",
       "      <td>4:1</td>\n",
       "      <td>['match_id=897060599']</td>\n",
       "      <td>FireStorm</td>\n",
       "      <td>['team_id=10056']</td>\n",
       "    </tr>\n",
       "    <tr>\n",
       "      <th>1</th>\n",
       "      <td>24.06 - 22:00</td>\n",
       "      <td>Friendly</td>\n",
       "      <td>Lakeside Hoppers</td>\n",
       "      <td>['team_id=39343']</td>\n",
       "      <td>5:2</td>\n",
       "      <td>['match_id=897060558']</td>\n",
       "      <td>HC Jelgava Stars</td>\n",
       "      <td>['team_id=42152']</td>\n",
       "    </tr>\n",
       "    <tr>\n",
       "      <th>2</th>\n",
       "      <td>25.06 - 21:00</td>\n",
       "      <td>League 1.round</td>\n",
       "      <td>HC #Dinamo Riga#</td>\n",
       "      <td>['team_id=7903']</td>\n",
       "      <td>3:5</td>\n",
       "      <td>['match_id=897112194']</td>\n",
       "      <td>HC Jelgava Stars</td>\n",
       "      <td>['team_id=42152']</td>\n",
       "    </tr>\n",
       "    <tr>\n",
       "      <th>3</th>\n",
       "      <td>26.06 - 21:00</td>\n",
       "      <td>League 2.round</td>\n",
       "      <td>HC Jelgava Stars</td>\n",
       "      <td>['team_id=42152']</td>\n",
       "      <td>4:2</td>\n",
       "      <td>['match_id=897112204']</td>\n",
       "      <td>Rozetes</td>\n",
       "      <td>['team_id=20386']</td>\n",
       "    </tr>\n",
       "  </tbody>\n",
       "</table>\n",
       "</div>"
      ],
      "text/plain": [
       "            date       game_type            home_t              ht_id  \\\n",
       "0  23.06 - 21:00        Friendly  HC Jelgava Stars  ['team_id=42152']   \n",
       "1  24.06 - 22:00        Friendly  Lakeside Hoppers  ['team_id=39343']   \n",
       "2  25.06 - 21:00  League 1.round  HC #Dinamo Riga#   ['team_id=7903']   \n",
       "3  26.06 - 21:00  League 2.round  HC Jelgava Stars  ['team_id=42152']   \n",
       "\n",
       "  game_result                 game_id            away_t              at_id  \n",
       "0         4:1  ['match_id=897060599']         FireStorm  ['team_id=10056']  \n",
       "1         5:2  ['match_id=897060558']  HC Jelgava Stars  ['team_id=42152']  \n",
       "2         3:5  ['match_id=897112194']  HC Jelgava Stars  ['team_id=42152']  \n",
       "3         4:2  ['match_id=897112204']           Rozetes  ['team_id=20386']  "
      ]
     },
     "execution_count": 6,
     "metadata": {},
     "output_type": "execute_result"
    }
   ],
   "source": [
    "df[:4]"
   ]
  },
  {
   "cell_type": "code",
   "execution_count": 7,
   "metadata": {},
   "outputs": [
    {
     "name": "stdout",
     "output_type": "stream",
     "text": [
      "<class 'pandas.core.frame.DataFrame'>\n",
      "RangeIndex: 67 entries, 0 to 66\n",
      "Data columns (total 8 columns):\n",
      "date           67 non-null object\n",
      "game_type      67 non-null object\n",
      "home_t         67 non-null object\n",
      "ht_id          67 non-null object\n",
      "game_result    67 non-null object\n",
      "game_id        67 non-null object\n",
      "away_t         67 non-null object\n",
      "at_id          67 non-null object\n",
      "dtypes: object(8)\n",
      "memory usage: 4.3+ KB\n"
     ]
    }
   ],
   "source": [
    "df.info()"
   ]
  },
  {
   "cell_type": "markdown",
   "metadata": {},
   "source": [
    "#### split game_result into columns home goals and away goals and set  int type"
   ]
  },
  {
   "cell_type": "code",
   "execution_count": 8,
   "metadata": {},
   "outputs": [],
   "source": [
    "game_scores = pd.DataFrame(df.game_result.str.split(':').tolist(),\n",
    "                                   columns = ['home_g','away_g'])"
   ]
  },
  {
   "cell_type": "code",
   "execution_count": 9,
   "metadata": {},
   "outputs": [],
   "source": [
    "game_scores[['home_g','away_g']] = game_scores[['home_g','away_g']].astype(int)"
   ]
  },
  {
   "cell_type": "markdown",
   "metadata": {},
   "source": [
    "#### new df with necessary columns"
   ]
  },
  {
   "cell_type": "code",
   "execution_count": 10,
   "metadata": {},
   "outputs": [],
   "source": [
    "new_df = pd.concat([df,game_scores],axis=1)\n",
    "new_df = new_df[['game_type', 'home_t','home_g','away_g', 'away_t']]"
   ]
  },
  {
   "cell_type": "code",
   "execution_count": 12,
   "metadata": {},
   "outputs": [
    {
     "data": {
      "text/html": [
       "<div>\n",
       "<style scoped>\n",
       "    .dataframe tbody tr th:only-of-type {\n",
       "        vertical-align: middle;\n",
       "    }\n",
       "\n",
       "    .dataframe tbody tr th {\n",
       "        vertical-align: top;\n",
       "    }\n",
       "\n",
       "    .dataframe thead th {\n",
       "        text-align: right;\n",
       "    }\n",
       "</style>\n",
       "<table border=\"1\" class=\"dataframe\">\n",
       "  <thead>\n",
       "    <tr style=\"text-align: right;\">\n",
       "      <th></th>\n",
       "      <th>game_type</th>\n",
       "      <th>home_t</th>\n",
       "      <th>home_g</th>\n",
       "      <th>away_g</th>\n",
       "      <th>away_t</th>\n",
       "    </tr>\n",
       "  </thead>\n",
       "  <tbody>\n",
       "    <tr>\n",
       "      <th>0</th>\n",
       "      <td>Friendly</td>\n",
       "      <td>HC Jelgava Stars</td>\n",
       "      <td>4</td>\n",
       "      <td>1</td>\n",
       "      <td>FireStorm</td>\n",
       "    </tr>\n",
       "    <tr>\n",
       "      <th>1</th>\n",
       "      <td>Friendly</td>\n",
       "      <td>Lakeside Hoppers</td>\n",
       "      <td>5</td>\n",
       "      <td>2</td>\n",
       "      <td>HC Jelgava Stars</td>\n",
       "    </tr>\n",
       "    <tr>\n",
       "      <th>2</th>\n",
       "      <td>League 1.round</td>\n",
       "      <td>HC #Dinamo Riga#</td>\n",
       "      <td>3</td>\n",
       "      <td>5</td>\n",
       "      <td>HC Jelgava Stars</td>\n",
       "    </tr>\n",
       "    <tr>\n",
       "      <th>3</th>\n",
       "      <td>League 2.round</td>\n",
       "      <td>HC Jelgava Stars</td>\n",
       "      <td>4</td>\n",
       "      <td>2</td>\n",
       "      <td>Rozetes</td>\n",
       "    </tr>\n",
       "  </tbody>\n",
       "</table>\n",
       "</div>"
      ],
      "text/plain": [
       "        game_type            home_t  home_g  away_g            away_t\n",
       "0        Friendly  HC Jelgava Stars       4       1         FireStorm\n",
       "1        Friendly  Lakeside Hoppers       5       2  HC Jelgava Stars\n",
       "2  League 1.round  HC #Dinamo Riga#       3       5  HC Jelgava Stars\n",
       "3  League 2.round  HC Jelgava Stars       4       2           Rozetes"
      ]
     },
     "execution_count": 12,
     "metadata": {},
     "output_type": "execute_result"
    }
   ],
   "source": [
    "new_df[:4]"
   ]
  },
  {
   "cell_type": "markdown",
   "metadata": {},
   "source": [
    "## separating games by home games and away games and game type aswell\n",
    "\n",
    "    - Friendly\n",
    "    - League\n",
    "    - Playoff"
   ]
  },
  {
   "cell_type": "code",
   "execution_count": 13,
   "metadata": {},
   "outputs": [],
   "source": [
    "f_home = new_df.loc[(df['home_t'] == 'HC Jelgava Stars') & (new_df['game_type'] == 'Friendly')]\n",
    "f_away = new_df.loc[(df['home_t'] != 'HC Jelgava Stars') & (new_df['game_type'] == 'Friendly')]\n",
    "l_home = new_df.loc[(df['home_t'] == 'HC Jelgava Stars') & (new_df.game_type.str.startswith('Le'))]\n",
    "l_away = new_df.loc[(df['home_t'] != 'HC Jelgava Stars') & (new_df.game_type.str.startswith('Le'))]\n",
    "pl_home = new_df.loc[(df['home_t'] == 'HC Jelgava Stars') & (new_df.game_type.str.startswith('Pl'))]\n",
    "pl_away = new_df.loc[(df['home_t'] != 'HC Jelgava Stars') & (new_df.game_type.str.startswith('Pl'))]"
   ]
  },
  {
   "cell_type": "markdown",
   "metadata": {},
   "source": [
    "### resulting game calculation \n",
    "    count :\n",
    "        - games played\n",
    "        - home / away team goals\n",
    "        - wins/loss/draws"
   ]
  },
  {
   "cell_type": "code",
   "execution_count": 15,
   "metadata": {},
   "outputs": [],
   "source": [
    "game_table = {'friendly':[f_home,f_away],\n",
    "                  'league' : [l_home,l_away],\n",
    "                  'playoff' :[pl_home,pl_away]}"
   ]
  },
  {
   "cell_type": "markdown",
   "metadata": {},
   "source": [
    "##### Home games\n"
   ]
  },
  {
   "cell_type": "code",
   "execution_count": 16,
   "metadata": {},
   "outputs": [],
   "source": [
    "home_game_scores = {'friendly':{},\n",
    "               'league':{},\n",
    "               'playoff':{}}"
   ]
  },
  {
   "cell_type": "code",
   "execution_count": 19,
   "metadata": {},
   "outputs": [
    {
     "name": "stdout",
     "output_type": "stream",
     "text": [
      "GamesPlayed 12 HomeGoals 44 AwayGoals 29\n",
      "GamesPlayed 15 HomeGoals 54 AwayGoals 33\n",
      "GamesPlayed 3 HomeGoals 16 AwayGoals 10\n"
     ]
    }
   ],
   "source": [
    "for i in game_table:\n",
    "    home_team_goals = game_table[i][0]['home_g'].sum()\n",
    "    away_team_goals = game_table[i][0]['away_g'].sum()\n",
    "    games_played = len(game_table[i][0]['home_g'])\n",
    "    wins = np.greater(game_table[i][0]['home_g'],game_table[i][0]['away_g']).sum()\n",
    "    loss = np.less(game_table[i][0]['home_g'],game_table[i][0]['away_g']).sum()\n",
    "    draw = np.equal(game_table[i][0]['home_g'],game_table[i][0]['away_g']).sum()\n",
    "    \n",
    "    game_res = {'GamesPlayed':games_played,\n",
    "                'HomeGoals':home_team_goals,\n",
    "                'AwayGoals':away_team_goals,\n",
    "                'Wins': wins,\n",
    "                'Loss': loss,\n",
    "                'Draw': draw}    \n",
    "    home_game_scores[i].update(game_res)\n",
    "    print('GamesPlayed', games_played, 'HomeGoals', home_team_goals,'AwayGoals', away_team_goals)"
   ]
  },
  {
   "cell_type": "markdown",
   "metadata": {},
   "source": [
    "#### Away games"
   ]
  },
  {
   "cell_type": "code",
   "execution_count": 21,
   "metadata": {},
   "outputs": [],
   "source": [
    "away_game_scores = {'friendly':{},\n",
    "               'league':{},\n",
    "               'playoff':{}}"
   ]
  },
  {
   "cell_type": "code",
   "execution_count": 22,
   "metadata": {},
   "outputs": [],
   "source": [
    "for i in game_table:\n",
    "    home_team_goals = game_table[i][1]['home_g'].sum()\n",
    "    away_team_goals = game_table[i][1]['away_g'].sum()\n",
    "    games_played = len(game_table[i][1]['home_g'])\n",
    "    loss = np.greater(game_table[i][1]['home_g'],game_table[i][1]['away_g']).sum()\n",
    "    wins = np.less(game_table[i][1]['home_g'],game_table[i][1]['away_g']).sum()\n",
    "    draw = np.equal(game_table[i][1]['home_g'],game_table[i][1]['away_g']).sum()\n",
    "    \n",
    "    game_res = {'GamesPlayed':games_played,\n",
    "                'HomeGoals':home_team_goals,\n",
    "                'AwayGoals':away_team_goals,\n",
    "                'Wins': wins,\n",
    "                'Loss': loss,\n",
    "                'Draw': draw}    \n",
    "    away_game_scores[i].update(game_res)"
   ]
  },
  {
   "cell_type": "markdown",
   "metadata": {},
   "source": [
    "#### create new df from dicts \n",
    "    - home_game_scores   - score_df\n",
    "    - away_game_scores"
   ]
  },
  {
   "cell_type": "code",
   "execution_count": 29,
   "metadata": {},
   "outputs": [],
   "source": [
    "# Home games"
   ]
  },
  {
   "cell_type": "code",
   "execution_count": 23,
   "metadata": {},
   "outputs": [],
   "source": [
    "score_df = pd.DataFrame.from_dict(home_game_scores,orient='index')"
   ]
  },
  {
   "cell_type": "code",
   "execution_count": 26,
   "metadata": {},
   "outputs": [
    {
     "data": {
      "text/html": [
       "<div>\n",
       "<style scoped>\n",
       "    .dataframe tbody tr th:only-of-type {\n",
       "        vertical-align: middle;\n",
       "    }\n",
       "\n",
       "    .dataframe tbody tr th {\n",
       "        vertical-align: top;\n",
       "    }\n",
       "\n",
       "    .dataframe thead th {\n",
       "        text-align: right;\n",
       "    }\n",
       "</style>\n",
       "<table border=\"1\" class=\"dataframe\">\n",
       "  <thead>\n",
       "    <tr style=\"text-align: right;\">\n",
       "      <th></th>\n",
       "      <th>index</th>\n",
       "      <th>GamesPlayed</th>\n",
       "      <th>HomeGoals</th>\n",
       "      <th>AwayGoals</th>\n",
       "      <th>Wins</th>\n",
       "      <th>Loss</th>\n",
       "      <th>Draw</th>\n",
       "    </tr>\n",
       "  </thead>\n",
       "  <tbody>\n",
       "    <tr>\n",
       "      <th>0</th>\n",
       "      <td>friendly</td>\n",
       "      <td>12</td>\n",
       "      <td>44</td>\n",
       "      <td>29</td>\n",
       "      <td>7</td>\n",
       "      <td>4</td>\n",
       "      <td>1</td>\n",
       "    </tr>\n",
       "    <tr>\n",
       "      <th>1</th>\n",
       "      <td>league</td>\n",
       "      <td>15</td>\n",
       "      <td>54</td>\n",
       "      <td>33</td>\n",
       "      <td>12</td>\n",
       "      <td>3</td>\n",
       "      <td>0</td>\n",
       "    </tr>\n",
       "    <tr>\n",
       "      <th>2</th>\n",
       "      <td>playoff</td>\n",
       "      <td>3</td>\n",
       "      <td>16</td>\n",
       "      <td>10</td>\n",
       "      <td>2</td>\n",
       "      <td>1</td>\n",
       "      <td>0</td>\n",
       "    </tr>\n",
       "  </tbody>\n",
       "</table>\n",
       "</div>"
      ],
      "text/plain": [
       "      index  GamesPlayed  HomeGoals  AwayGoals  Wins  Loss  Draw\n",
       "0  friendly           12         44         29     7     4     1\n",
       "1    league           15         54         33    12     3     0\n",
       "2   playoff            3         16         10     2     1     0"
      ]
     },
     "execution_count": 26,
     "metadata": {},
     "output_type": "execute_result"
    }
   ],
   "source": [
    "score_df = score_df.reset_index()\n",
    "score_df"
   ]
  },
  {
   "cell_type": "code",
   "execution_count": 28,
   "metadata": {},
   "outputs": [],
   "source": [
    "# apply _home to index end.\n",
    "\n",
    "score_df['index'] = score_df['index'].apply(lambda x: f\"{x}_home\")"
   ]
  },
  {
   "cell_type": "code",
   "execution_count": 30,
   "metadata": {},
   "outputs": [],
   "source": [
    "# away games"
   ]
  },
  {
   "cell_type": "code",
   "execution_count": 31,
   "metadata": {},
   "outputs": [],
   "source": [
    "scores = pd.DataFrame.from_dict(away_game_scores,orient='index')"
   ]
  },
  {
   "cell_type": "code",
   "execution_count": 32,
   "metadata": {},
   "outputs": [
    {
     "data": {
      "text/html": [
       "<div>\n",
       "<style scoped>\n",
       "    .dataframe tbody tr th:only-of-type {\n",
       "        vertical-align: middle;\n",
       "    }\n",
       "\n",
       "    .dataframe tbody tr th {\n",
       "        vertical-align: top;\n",
       "    }\n",
       "\n",
       "    .dataframe thead th {\n",
       "        text-align: right;\n",
       "    }\n",
       "</style>\n",
       "<table border=\"1\" class=\"dataframe\">\n",
       "  <thead>\n",
       "    <tr style=\"text-align: right;\">\n",
       "      <th></th>\n",
       "      <th>index</th>\n",
       "      <th>GamesPlayed</th>\n",
       "      <th>HomeGoals</th>\n",
       "      <th>AwayGoals</th>\n",
       "      <th>Wins</th>\n",
       "      <th>Loss</th>\n",
       "      <th>Draw</th>\n",
       "    </tr>\n",
       "  </thead>\n",
       "  <tbody>\n",
       "    <tr>\n",
       "      <th>0</th>\n",
       "      <td>friendly_away</td>\n",
       "      <td>17</td>\n",
       "      <td>41</td>\n",
       "      <td>73</td>\n",
       "      <td>11</td>\n",
       "      <td>5</td>\n",
       "      <td>1</td>\n",
       "    </tr>\n",
       "    <tr>\n",
       "      <th>1</th>\n",
       "      <td>league_away</td>\n",
       "      <td>15</td>\n",
       "      <td>43</td>\n",
       "      <td>49</td>\n",
       "      <td>8</td>\n",
       "      <td>7</td>\n",
       "      <td>0</td>\n",
       "    </tr>\n",
       "    <tr>\n",
       "      <th>2</th>\n",
       "      <td>playoff_away</td>\n",
       "      <td>4</td>\n",
       "      <td>16</td>\n",
       "      <td>14</td>\n",
       "      <td>3</td>\n",
       "      <td>1</td>\n",
       "      <td>0</td>\n",
       "    </tr>\n",
       "  </tbody>\n",
       "</table>\n",
       "</div>"
      ],
      "text/plain": [
       "           index  GamesPlayed  HomeGoals  AwayGoals  Wins  Loss  Draw\n",
       "0  friendly_away           17         41         73    11     5     1\n",
       "1    league_away           15         43         49     8     7     0\n",
       "2   playoff_away            4         16         14     3     1     0"
      ]
     },
     "execution_count": 32,
     "metadata": {},
     "output_type": "execute_result"
    }
   ],
   "source": [
    "scores = scores.reset_index()\n",
    "scores['index'] = scores['index'].apply(lambda x: f\"{x}_away\")\n",
    "scores"
   ]
  },
  {
   "cell_type": "code",
   "execution_count": 34,
   "metadata": {},
   "outputs": [],
   "source": [
    "game_score = pd.concat([score_df,scores])\n",
    "game_score = game_score.sort_values(by=['index'])"
   ]
  },
  {
   "cell_type": "code",
   "execution_count": 35,
   "metadata": {},
   "outputs": [
    {
     "data": {
      "text/html": [
       "<div>\n",
       "<style scoped>\n",
       "    .dataframe tbody tr th:only-of-type {\n",
       "        vertical-align: middle;\n",
       "    }\n",
       "\n",
       "    .dataframe tbody tr th {\n",
       "        vertical-align: top;\n",
       "    }\n",
       "\n",
       "    .dataframe thead th {\n",
       "        text-align: right;\n",
       "    }\n",
       "</style>\n",
       "<table border=\"1\" class=\"dataframe\">\n",
       "  <thead>\n",
       "    <tr style=\"text-align: right;\">\n",
       "      <th></th>\n",
       "      <th>index</th>\n",
       "      <th>GamesPlayed</th>\n",
       "      <th>HomeGoals</th>\n",
       "      <th>AwayGoals</th>\n",
       "      <th>Wins</th>\n",
       "      <th>Loss</th>\n",
       "      <th>Draw</th>\n",
       "    </tr>\n",
       "  </thead>\n",
       "  <tbody>\n",
       "    <tr>\n",
       "      <th>0</th>\n",
       "      <td>friendly_away</td>\n",
       "      <td>17</td>\n",
       "      <td>41</td>\n",
       "      <td>73</td>\n",
       "      <td>11</td>\n",
       "      <td>5</td>\n",
       "      <td>1</td>\n",
       "    </tr>\n",
       "    <tr>\n",
       "      <th>0</th>\n",
       "      <td>friendly_home_home</td>\n",
       "      <td>12</td>\n",
       "      <td>44</td>\n",
       "      <td>29</td>\n",
       "      <td>7</td>\n",
       "      <td>4</td>\n",
       "      <td>1</td>\n",
       "    </tr>\n",
       "    <tr>\n",
       "      <th>1</th>\n",
       "      <td>league_away</td>\n",
       "      <td>15</td>\n",
       "      <td>43</td>\n",
       "      <td>49</td>\n",
       "      <td>8</td>\n",
       "      <td>7</td>\n",
       "      <td>0</td>\n",
       "    </tr>\n",
       "    <tr>\n",
       "      <th>1</th>\n",
       "      <td>league_home_home</td>\n",
       "      <td>15</td>\n",
       "      <td>54</td>\n",
       "      <td>33</td>\n",
       "      <td>12</td>\n",
       "      <td>3</td>\n",
       "      <td>0</td>\n",
       "    </tr>\n",
       "    <tr>\n",
       "      <th>2</th>\n",
       "      <td>playoff_away</td>\n",
       "      <td>4</td>\n",
       "      <td>16</td>\n",
       "      <td>14</td>\n",
       "      <td>3</td>\n",
       "      <td>1</td>\n",
       "      <td>0</td>\n",
       "    </tr>\n",
       "    <tr>\n",
       "      <th>2</th>\n",
       "      <td>playoff_home_home</td>\n",
       "      <td>3</td>\n",
       "      <td>16</td>\n",
       "      <td>10</td>\n",
       "      <td>2</td>\n",
       "      <td>1</td>\n",
       "      <td>0</td>\n",
       "    </tr>\n",
       "  </tbody>\n",
       "</table>\n",
       "</div>"
      ],
      "text/plain": [
       "                index  GamesPlayed  HomeGoals  AwayGoals  Wins  Loss  Draw\n",
       "0       friendly_away           17         41         73    11     5     1\n",
       "0  friendly_home_home           12         44         29     7     4     1\n",
       "1         league_away           15         43         49     8     7     0\n",
       "1    league_home_home           15         54         33    12     3     0\n",
       "2        playoff_away            4         16         14     3     1     0\n",
       "2   playoff_home_home            3         16         10     2     1     0"
      ]
     },
     "execution_count": 35,
     "metadata": {},
     "output_type": "execute_result"
    }
   ],
   "source": [
    "game_score"
   ]
  },
  {
   "cell_type": "code",
   "execution_count": 37,
   "metadata": {},
   "outputs": [
    {
     "data": {
      "text/plain": [
       "index          friendly_awayfriendly_home_homeleague_awayleag...\n",
       "GamesPlayed                                                   66\n",
       "HomeGoals                                                    214\n",
       "AwayGoals                                                    208\n",
       "Wins                                                          43\n",
       "Loss                                                          21\n",
       "Draw                                                           2\n",
       "dtype: object"
      ]
     },
     "execution_count": 37,
     "metadata": {},
     "output_type": "execute_result"
    }
   ],
   "source": [
    "game_score.sum()"
   ]
  },
  {
   "cell_type": "code",
   "execution_count": null,
   "metadata": {},
   "outputs": [],
   "source": []
  }
 ],
 "metadata": {
  "kernelspec": {
   "display_name": "Python 3",
   "language": "python",
   "name": "python3"
  },
  "language_info": {
   "codemirror_mode": {
    "name": "ipython",
    "version": 3
   },
   "file_extension": ".py",
   "mimetype": "text/x-python",
   "name": "python",
   "nbconvert_exporter": "python",
   "pygments_lexer": "ipython3",
   "version": "3.6.5"
  }
 },
 "nbformat": 4,
 "nbformat_minor": 2
}
