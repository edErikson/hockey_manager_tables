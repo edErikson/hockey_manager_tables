{
 "cells": [
  {
   "cell_type": "code",
   "execution_count": 1,
   "metadata": {},
   "outputs": [],
   "source": [
    "import pandas as pd\n",
    "import seaborn as sns"
   ]
  },
  {
   "cell_type": "code",
   "execution_count": 4,
   "metadata": {},
   "outputs": [],
   "source": [
    "players = pd.read_csv('clean_data/players.csv')\n",
    "career = pd.read_csv('clean_data/player_career_stats.csv')\n",
    "means = pd.read_csv('clean_data/player_career_mean.csv')\n",
    "scoring = pd.read_csv('clean_data/season_scoring.csv')"
   ]
  },
  {
   "cell_type": "code",
   "execution_count": 5,
   "metadata": {},
   "outputs": [
    {
     "data": {
      "text/html": [
       "<div>\n",
       "<style scoped>\n",
       "    .dataframe tbody tr th:only-of-type {\n",
       "        vertical-align: middle;\n",
       "    }\n",
       "\n",
       "    .dataframe tbody tr th {\n",
       "        vertical-align: top;\n",
       "    }\n",
       "\n",
       "    .dataframe thead th {\n",
       "        text-align: right;\n",
       "    }\n",
       "</style>\n",
       "<table border=\"1\" class=\"dataframe\">\n",
       "  <thead>\n",
       "    <tr style=\"text-align: right;\">\n",
       "      <th></th>\n",
       "      <th>Unnamed: 0</th>\n",
       "      <th>name</th>\n",
       "      <th>pos</th>\n",
       "      <th>age</th>\n",
       "      <th>ai</th>\n",
       "    </tr>\n",
       "  </thead>\n",
       "  <tbody>\n",
       "    <tr>\n",
       "      <th>0</th>\n",
       "      <td>1</td>\n",
       "      <td>Vasile Halip</td>\n",
       "      <td>W</td>\n",
       "      <td>30</td>\n",
       "      <td>396</td>\n",
       "    </tr>\n",
       "    <tr>\n",
       "      <th>1</th>\n",
       "      <td>2</td>\n",
       "      <td>Ilya Tonkonogov</td>\n",
       "      <td>D</td>\n",
       "      <td>28</td>\n",
       "      <td>388</td>\n",
       "    </tr>\n",
       "    <tr>\n",
       "      <th>2</th>\n",
       "      <td>3</td>\n",
       "      <td>Cyrille Boulanger</td>\n",
       "      <td>W</td>\n",
       "      <td>29</td>\n",
       "      <td>383</td>\n",
       "    </tr>\n",
       "    <tr>\n",
       "      <th>3</th>\n",
       "      <td>4</td>\n",
       "      <td>Joshua Adams</td>\n",
       "      <td>C</td>\n",
       "      <td>28</td>\n",
       "      <td>372</td>\n",
       "    </tr>\n",
       "  </tbody>\n",
       "</table>\n",
       "</div>"
      ],
      "text/plain": [
       "   Unnamed: 0               name pos  age   ai\n",
       "0           1       Vasile Halip   W   30  396\n",
       "1           2    Ilya Tonkonogov   D   28  388\n",
       "2           3  Cyrille Boulanger   W   29  383\n",
       "3           4       Joshua Adams   C   28  372"
      ]
     },
     "execution_count": 5,
     "metadata": {},
     "output_type": "execute_result"
    }
   ],
   "source": [
    "players[:4]"
   ]
  },
  {
   "cell_type": "code",
   "execution_count": 12,
   "metadata": {},
   "outputs": [],
   "source": [
    "#scores = scores.drop(columns='Unnamed: 0')\n",
    "players = players.drop(columns=['Unnamed: 0'])"
   ]
  },
  {
   "cell_type": "code",
   "execution_count": 14,
   "metadata": {},
   "outputs": [
    {
     "data": {
      "text/html": [
       "<div>\n",
       "<style scoped>\n",
       "    .dataframe tbody tr th:only-of-type {\n",
       "        vertical-align: middle;\n",
       "    }\n",
       "\n",
       "    .dataframe tbody tr th {\n",
       "        vertical-align: top;\n",
       "    }\n",
       "\n",
       "    .dataframe thead th {\n",
       "        text-align: right;\n",
       "    }\n",
       "</style>\n",
       "<table border=\"1\" class=\"dataframe\">\n",
       "  <thead>\n",
       "    <tr style=\"text-align: right;\">\n",
       "      <th></th>\n",
       "      <th>name</th>\n",
       "      <th>pos</th>\n",
       "      <th>age</th>\n",
       "      <th>ai</th>\n",
       "    </tr>\n",
       "  </thead>\n",
       "  <tbody>\n",
       "    <tr>\n",
       "      <th>0</th>\n",
       "      <td>Vasile Halip</td>\n",
       "      <td>W</td>\n",
       "      <td>30</td>\n",
       "      <td>396</td>\n",
       "    </tr>\n",
       "    <tr>\n",
       "      <th>1</th>\n",
       "      <td>Ilya Tonkonogov</td>\n",
       "      <td>D</td>\n",
       "      <td>28</td>\n",
       "      <td>388</td>\n",
       "    </tr>\n",
       "    <tr>\n",
       "      <th>2</th>\n",
       "      <td>Cyrille Boulanger</td>\n",
       "      <td>W</td>\n",
       "      <td>29</td>\n",
       "      <td>383</td>\n",
       "    </tr>\n",
       "  </tbody>\n",
       "</table>\n",
       "</div>"
      ],
      "text/plain": [
       "                name pos  age   ai\n",
       "0       Vasile Halip   W   30  396\n",
       "1    Ilya Tonkonogov   D   28  388\n",
       "2  Cyrille Boulanger   W   29  383"
      ]
     },
     "execution_count": 14,
     "metadata": {},
     "output_type": "execute_result"
    }
   ],
   "source": [
    "players[:3]"
   ]
  },
  {
   "cell_type": "code",
   "execution_count": 15,
   "metadata": {},
   "outputs": [
    {
     "data": {
      "text/html": [
       "<div>\n",
       "<style scoped>\n",
       "    .dataframe tbody tr th:only-of-type {\n",
       "        vertical-align: middle;\n",
       "    }\n",
       "\n",
       "    .dataframe tbody tr th {\n",
       "        vertical-align: top;\n",
       "    }\n",
       "\n",
       "    .dataframe thead th {\n",
       "        text-align: right;\n",
       "    }\n",
       "</style>\n",
       "<table border=\"1\" class=\"dataframe\">\n",
       "  <thead>\n",
       "    <tr style=\"text-align: right;\">\n",
       "      <th></th>\n",
       "      <th>name</th>\n",
       "      <th>pos</th>\n",
       "      <th>age</th>\n",
       "      <th>ai</th>\n",
       "    </tr>\n",
       "  </thead>\n",
       "  <tbody>\n",
       "    <tr>\n",
       "      <th>0</th>\n",
       "      <td>Alberts Timanovskis</td>\n",
       "      <td>C</td>\n",
       "      <td>23</td>\n",
       "      <td>277</td>\n",
       "    </tr>\n",
       "    <tr>\n",
       "      <th>1</th>\n",
       "      <td>Andris Kraulis</td>\n",
       "      <td>W</td>\n",
       "      <td>20</td>\n",
       "      <td>197</td>\n",
       "    </tr>\n",
       "    <tr>\n",
       "      <th>2</th>\n",
       "      <td>Atis Zilgalvis</td>\n",
       "      <td>W</td>\n",
       "      <td>24</td>\n",
       "      <td>328</td>\n",
       "    </tr>\n",
       "  </tbody>\n",
       "</table>\n",
       "</div>"
      ],
      "text/plain": [
       "                  name pos  age   ai\n",
       "0  Alberts Timanovskis   C   23  277\n",
       "1       Andris Kraulis   W   20  197\n",
       "2       Atis Zilgalvis   W   24  328"
      ]
     },
     "execution_count": 15,
     "metadata": {},
     "output_type": "execute_result"
    }
   ],
   "source": [
    "players.sort_values(by='name').reset_index(drop=True)[:3]"
   ]
  },
  {
   "cell_type": "code",
   "execution_count": 19,
   "metadata": {},
   "outputs": [
    {
     "data": {
      "text/html": [
       "<div>\n",
       "<style scoped>\n",
       "    .dataframe tbody tr th:only-of-type {\n",
       "        vertical-align: middle;\n",
       "    }\n",
       "\n",
       "    .dataframe tbody tr th {\n",
       "        vertical-align: top;\n",
       "    }\n",
       "\n",
       "    .dataframe thead th {\n",
       "        text-align: right;\n",
       "    }\n",
       "</style>\n",
       "<table border=\"1\" class=\"dataframe\">\n",
       "  <thead>\n",
       "    <tr style=\"text-align: right;\">\n",
       "      <th></th>\n",
       "      <th>Total_asists</th>\n",
       "      <th>Total_goals</th>\n",
       "      <th>Total_points</th>\n",
       "      <th>name</th>\n",
       "    </tr>\n",
       "  </thead>\n",
       "  <tbody>\n",
       "    <tr>\n",
       "      <th>0</th>\n",
       "      <td>47.0</td>\n",
       "      <td>8.0</td>\n",
       "      <td>55.0</td>\n",
       "      <td>Dennis Ivarsson</td>\n",
       "    </tr>\n",
       "    <tr>\n",
       "      <th>1</th>\n",
       "      <td>26.0</td>\n",
       "      <td>14.0</td>\n",
       "      <td>40.0</td>\n",
       "      <td>Joshua Adams</td>\n",
       "    </tr>\n",
       "    <tr>\n",
       "      <th>2</th>\n",
       "      <td>9.0</td>\n",
       "      <td>29.0</td>\n",
       "      <td>38.0</td>\n",
       "      <td>Atis Zilgalvis</td>\n",
       "    </tr>\n",
       "  </tbody>\n",
       "</table>\n",
       "</div>"
      ],
      "text/plain": [
       "   Total_asists  Total_goals  Total_points             name\n",
       "0          47.0          8.0          55.0  Dennis Ivarsson\n",
       "1          26.0         14.0          40.0     Joshua Adams\n",
       "2           9.0         29.0          38.0   Atis Zilgalvis"
      ]
     },
     "execution_count": 19,
     "metadata": {},
     "output_type": "execute_result"
    }
   ],
   "source": [
    "#scoring['name'] = scoring['index']\n",
    "scoring = scoring.drop(columns='Unnamed: 0')\n",
    "scoring[:3]"
   ]
  },
  {
   "cell_type": "code",
   "execution_count": null,
   "metadata": {},
   "outputs": [],
   "source": [
    "scoring = scoring.drop(columns='index')"
   ]
  },
  {
   "cell_type": "code",
   "execution_count": 22,
   "metadata": {},
   "outputs": [],
   "source": [
    "fine = pd.merge(players, scoring, on='name')"
   ]
  },
  {
   "cell_type": "code",
   "execution_count": 23,
   "metadata": {},
   "outputs": [],
   "source": [
    "fine['Total_points'] = fine['Total_goals'] + fine['Total_asists']"
   ]
  },
  {
   "cell_type": "code",
   "execution_count": 24,
   "metadata": {},
   "outputs": [
    {
     "data": {
      "text/html": [
       "<div>\n",
       "<style scoped>\n",
       "    .dataframe tbody tr th:only-of-type {\n",
       "        vertical-align: middle;\n",
       "    }\n",
       "\n",
       "    .dataframe tbody tr th {\n",
       "        vertical-align: top;\n",
       "    }\n",
       "\n",
       "    .dataframe thead th {\n",
       "        text-align: right;\n",
       "    }\n",
       "</style>\n",
       "<table border=\"1\" class=\"dataframe\">\n",
       "  <thead>\n",
       "    <tr style=\"text-align: right;\">\n",
       "      <th></th>\n",
       "      <th>name</th>\n",
       "      <th>pos</th>\n",
       "      <th>age</th>\n",
       "      <th>ai</th>\n",
       "      <th>Total_asists</th>\n",
       "      <th>Total_goals</th>\n",
       "      <th>Total_points</th>\n",
       "    </tr>\n",
       "  </thead>\n",
       "  <tbody>\n",
       "    <tr>\n",
       "      <th>0</th>\n",
       "      <td>Vasile Halip</td>\n",
       "      <td>W</td>\n",
       "      <td>30</td>\n",
       "      <td>396</td>\n",
       "      <td>11.0</td>\n",
       "      <td>17.0</td>\n",
       "      <td>28.0</td>\n",
       "    </tr>\n",
       "    <tr>\n",
       "      <th>1</th>\n",
       "      <td>Ilya Tonkonogov</td>\n",
       "      <td>D</td>\n",
       "      <td>28</td>\n",
       "      <td>388</td>\n",
       "      <td>20.0</td>\n",
       "      <td>4.0</td>\n",
       "      <td>24.0</td>\n",
       "    </tr>\n",
       "    <tr>\n",
       "      <th>2</th>\n",
       "      <td>Cyrille Boulanger</td>\n",
       "      <td>W</td>\n",
       "      <td>29</td>\n",
       "      <td>383</td>\n",
       "      <td>8.0</td>\n",
       "      <td>16.0</td>\n",
       "      <td>24.0</td>\n",
       "    </tr>\n",
       "  </tbody>\n",
       "</table>\n",
       "</div>"
      ],
      "text/plain": [
       "                name pos  age   ai  Total_asists  Total_goals  Total_points\n",
       "0       Vasile Halip   W   30  396          11.0         17.0          28.0\n",
       "1    Ilya Tonkonogov   D   28  388          20.0          4.0          24.0\n",
       "2  Cyrille Boulanger   W   29  383           8.0         16.0          24.0"
      ]
     },
     "execution_count": 24,
     "metadata": {},
     "output_type": "execute_result"
    }
   ],
   "source": [
    "fine[:3]"
   ]
  },
  {
   "cell_type": "markdown",
   "metadata": {},
   "source": [
    "##### pairplot"
   ]
  },
  {
   "cell_type": "code",
   "execution_count": 25,
   "metadata": {},
   "outputs": [],
   "source": [
    "pair = fine[['pos','ai','Total_points','age']]"
   ]
  },
  {
   "cell_type": "code",
   "execution_count": 26,
   "metadata": {},
   "outputs": [
    {
     "data": {
      "image/png": "[encoded data removed]",
      "text/plain": [
       "<Figure size 1017.88x972 with 12 Axes>"
      ]
     },
     "metadata": {},
     "output_type": "display_data"
    }
   ],
   "source": [
    "sns.pairplot(pair, hue='pos', size=4.5);"
   ]
  },
  {
   "cell_type": "code",
   "execution_count": 28,
   "metadata": {},
   "outputs": [],
   "source": [
    "career = career.drop(columns='Unnamed: 0')"
   ]
  },
  {
   "cell_type": "code",
   "execution_count": 29,
   "metadata": {},
   "outputs": [
    {
     "data": {
      "text/html": [
       "<div>\n",
       "<style scoped>\n",
       "    .dataframe tbody tr th:only-of-type {\n",
       "        vertical-align: middle;\n",
       "    }\n",
       "\n",
       "    .dataframe tbody tr th {\n",
       "        vertical-align: top;\n",
       "    }\n",
       "\n",
       "    .dataframe thead th {\n",
       "        text-align: right;\n",
       "    }\n",
       "</style>\n",
       "<table border=\"1\" class=\"dataframe\">\n",
       "  <thead>\n",
       "    <tr style=\"text-align: right;\">\n",
       "      <th></th>\n",
       "      <th>name</th>\n",
       "      <th>games</th>\n",
       "      <th>goals</th>\n",
       "      <th>asists</th>\n",
       "      <th>points</th>\n",
       "      <th>seasons</th>\n",
       "    </tr>\n",
       "  </thead>\n",
       "  <tbody>\n",
       "    <tr>\n",
       "      <th>0</th>\n",
       "      <td>Dennis Ivarsson</td>\n",
       "      <td>210</td>\n",
       "      <td>22</td>\n",
       "      <td>174</td>\n",
       "      <td>196</td>\n",
       "      <td>6.0</td>\n",
       "    </tr>\n",
       "    <tr>\n",
       "      <th>1</th>\n",
       "      <td>Vasile Halip</td>\n",
       "      <td>300</td>\n",
       "      <td>109</td>\n",
       "      <td>61</td>\n",
       "      <td>170</td>\n",
       "      <td>10.0</td>\n",
       "    </tr>\n",
       "    <tr>\n",
       "      <th>2</th>\n",
       "      <td>Maigonis Ušackis</td>\n",
       "      <td>277</td>\n",
       "      <td>94</td>\n",
       "      <td>37</td>\n",
       "      <td>131</td>\n",
       "      <td>10.0</td>\n",
       "    </tr>\n",
       "  </tbody>\n",
       "</table>\n",
       "</div>"
      ],
      "text/plain": [
       "                 name  games  goals  asists  points  seasons\n",
       "0    Dennis Ivarsson     210     22     174     196      6.0\n",
       "1       Vasile Halip     300    109      61     170     10.0\n",
       "2   Maigonis Ušackis     277     94      37     131     10.0"
      ]
     },
     "execution_count": 29,
     "metadata": {},
     "output_type": "execute_result"
    }
   ],
   "source": [
    "career[:3]"
   ]
  },
  {
   "cell_type": "code",
   "execution_count": 30,
   "metadata": {},
   "outputs": [],
   "source": [
    "career['name'] = career['name'].str.strip()"
   ]
  },
  {
   "cell_type": "code",
   "execution_count": 31,
   "metadata": {},
   "outputs": [],
   "source": [
    "fine = fine.sort_values(by=['name']).reset_index(drop=True)\n",
    "career = career.sort_values(by=['name']).reset_index(drop=True)"
   ]
  },
  {
   "cell_type": "code",
   "execution_count": 32,
   "metadata": {},
   "outputs": [],
   "source": [
    "data = pd.merge(fine,career, left_on='name', right_on='name',how='outer')"
   ]
  },
  {
   "cell_type": "code",
   "execution_count": 33,
   "metadata": {},
   "outputs": [
    {
     "data": {
      "text/html": [
       "<div>\n",
       "<style scoped>\n",
       "    .dataframe tbody tr th:only-of-type {\n",
       "        vertical-align: middle;\n",
       "    }\n",
       "\n",
       "    .dataframe tbody tr th {\n",
       "        vertical-align: top;\n",
       "    }\n",
       "\n",
       "    .dataframe thead th {\n",
       "        text-align: right;\n",
       "    }\n",
       "</style>\n",
       "<table border=\"1\" class=\"dataframe\">\n",
       "  <thead>\n",
       "    <tr style=\"text-align: right;\">\n",
       "      <th></th>\n",
       "      <th>name</th>\n",
       "      <th>pos</th>\n",
       "      <th>age</th>\n",
       "      <th>ai</th>\n",
       "      <th>Total_asists</th>\n",
       "      <th>Total_goals</th>\n",
       "      <th>Total_points</th>\n",
       "      <th>games</th>\n",
       "      <th>goals</th>\n",
       "      <th>asists</th>\n",
       "      <th>points</th>\n",
       "      <th>seasons</th>\n",
       "    </tr>\n",
       "  </thead>\n",
       "  <tbody>\n",
       "    <tr>\n",
       "      <th>0</th>\n",
       "      <td>Alberts Timanovskis</td>\n",
       "      <td>C</td>\n",
       "      <td>23.0</td>\n",
       "      <td>277.0</td>\n",
       "      <td>17.0</td>\n",
       "      <td>9.0</td>\n",
       "      <td>26.0</td>\n",
       "      <td>135</td>\n",
       "      <td>6</td>\n",
       "      <td>18</td>\n",
       "      <td>24</td>\n",
       "      <td>6.0</td>\n",
       "    </tr>\n",
       "    <tr>\n",
       "      <th>1</th>\n",
       "      <td>Andris Kraulis</td>\n",
       "      <td>W</td>\n",
       "      <td>20.0</td>\n",
       "      <td>197.0</td>\n",
       "      <td>6.0</td>\n",
       "      <td>2.0</td>\n",
       "      <td>8.0</td>\n",
       "      <td>10</td>\n",
       "      <td>2</td>\n",
       "      <td>1</td>\n",
       "      <td>3</td>\n",
       "      <td>4.0</td>\n",
       "    </tr>\n",
       "    <tr>\n",
       "      <th>2</th>\n",
       "      <td>Atis Zilgalvis</td>\n",
       "      <td>W</td>\n",
       "      <td>24.0</td>\n",
       "      <td>328.0</td>\n",
       "      <td>9.0</td>\n",
       "      <td>29.0</td>\n",
       "      <td>38.0</td>\n",
       "      <td>194</td>\n",
       "      <td>59</td>\n",
       "      <td>15</td>\n",
       "      <td>74</td>\n",
       "      <td>7.0</td>\n",
       "    </tr>\n",
       "  </tbody>\n",
       "</table>\n",
       "</div>"
      ],
      "text/plain": [
       "                  name pos   age     ai  Total_asists  Total_goals  \\\n",
       "0  Alberts Timanovskis   C  23.0  277.0          17.0          9.0   \n",
       "1       Andris Kraulis   W  20.0  197.0           6.0          2.0   \n",
       "2       Atis Zilgalvis   W  24.0  328.0           9.0         29.0   \n",
       "\n",
       "   Total_points  games  goals  asists  points  seasons  \n",
       "0          26.0    135      6      18      24      6.0  \n",
       "1           8.0     10      2       1       3      4.0  \n",
       "2          38.0    194     59      15      74      7.0  "
      ]
     },
     "execution_count": 33,
     "metadata": {},
     "output_type": "execute_result"
    }
   ],
   "source": [
    "data[:3]"
   ]
  },
  {
   "cell_type": "code",
   "execution_count": 34,
   "metadata": {},
   "outputs": [],
   "source": [
    "means['name'] = means['name'].str.strip()"
   ]
  },
  {
   "cell_type": "code",
   "execution_count": 36,
   "metadata": {},
   "outputs": [],
   "source": [
    "means = means.drop(columns='Unnamed: 0')\n",
    "means = means.sort_values(by=['name']).reset_index(drop=True)"
   ]
  },
  {
   "cell_type": "code",
   "execution_count": 37,
   "metadata": {},
   "outputs": [
    {
     "data": {
      "text/html": [
       "<div>\n",
       "<style scoped>\n",
       "    .dataframe tbody tr th:only-of-type {\n",
       "        vertical-align: middle;\n",
       "    }\n",
       "\n",
       "    .dataframe tbody tr th {\n",
       "        vertical-align: top;\n",
       "    }\n",
       "\n",
       "    .dataframe thead th {\n",
       "        text-align: right;\n",
       "    }\n",
       "</style>\n",
       "<table border=\"1\" class=\"dataframe\">\n",
       "  <thead>\n",
       "    <tr style=\"text-align: right;\">\n",
       "      <th></th>\n",
       "      <th>name</th>\n",
       "      <th>Mgames</th>\n",
       "      <th>Mshots</th>\n",
       "      <th>Mgoals</th>\n",
       "      <th>Masists</th>\n",
       "      <th>Mgame_coef</th>\n",
       "      <th>Minj</th>\n",
       "    </tr>\n",
       "  </thead>\n",
       "  <tbody>\n",
       "    <tr>\n",
       "      <th>0</th>\n",
       "      <td>Alberts Timanovskis</td>\n",
       "      <td>22.50</td>\n",
       "      <td>19.00</td>\n",
       "      <td>1.00</td>\n",
       "      <td>3.00</td>\n",
       "      <td>-4.83</td>\n",
       "      <td>2.50</td>\n",
       "    </tr>\n",
       "    <tr>\n",
       "      <th>1</th>\n",
       "      <td>Andris Kraulis</td>\n",
       "      <td>3.33</td>\n",
       "      <td>3.00</td>\n",
       "      <td>0.67</td>\n",
       "      <td>0.33</td>\n",
       "      <td>-1.33</td>\n",
       "      <td>1.00</td>\n",
       "    </tr>\n",
       "    <tr>\n",
       "      <th>2</th>\n",
       "      <td>Atis Zilgalvis</td>\n",
       "      <td>27.71</td>\n",
       "      <td>58.14</td>\n",
       "      <td>8.43</td>\n",
       "      <td>2.14</td>\n",
       "      <td>-2.57</td>\n",
       "      <td>0.14</td>\n",
       "    </tr>\n",
       "    <tr>\n",
       "      <th>3</th>\n",
       "      <td>Bohuslav Kotrba</td>\n",
       "      <td>27.44</td>\n",
       "      <td>42.33</td>\n",
       "      <td>1.44</td>\n",
       "      <td>8.00</td>\n",
       "      <td>7.22</td>\n",
       "      <td>2.67</td>\n",
       "    </tr>\n",
       "  </tbody>\n",
       "</table>\n",
       "</div>"
      ],
      "text/plain": [
       "                  name  Mgames  Mshots  Mgoals  Masists  Mgame_coef  Minj\n",
       "0  Alberts Timanovskis   22.50   19.00    1.00     3.00       -4.83  2.50\n",
       "1       Andris Kraulis    3.33    3.00    0.67     0.33       -1.33  1.00\n",
       "2       Atis Zilgalvis   27.71   58.14    8.43     2.14       -2.57  0.14\n",
       "3      Bohuslav Kotrba   27.44   42.33    1.44     8.00        7.22  2.67"
      ]
     },
     "execution_count": 37,
     "metadata": {},
     "output_type": "execute_result"
    }
   ],
   "source": [
    "means[:4]"
   ]
  },
  {
   "cell_type": "code",
   "execution_count": 38,
   "metadata": {},
   "outputs": [],
   "source": [
    "all_together = pd.merge(data,means, left_on='name', right_on='name',how='outer')"
   ]
  },
  {
   "cell_type": "code",
   "execution_count": 39,
   "metadata": {},
   "outputs": [],
   "source": [
    "all_together.to_csv('FINAL_TABLE.csv')"
   ]
  },
  {
   "cell_type": "code",
   "execution_count": 43,
   "metadata": {},
   "outputs": [],
   "source": [
    "all_together = all_together.dropna()"
   ]
  },
  {
   "cell_type": "code",
   "execution_count": 44,
   "metadata": {},
   "outputs": [
    {
     "data": {
      "text/html": [
       "<div>\n",
       "<style scoped>\n",
       "    .dataframe tbody tr th:only-of-type {\n",
       "        vertical-align: middle;\n",
       "    }\n",
       "\n",
       "    .dataframe tbody tr th {\n",
       "        vertical-align: top;\n",
       "    }\n",
       "\n",
       "    .dataframe thead th {\n",
       "        text-align: right;\n",
       "    }\n",
       "</style>\n",
       "<table border=\"1\" class=\"dataframe\">\n",
       "  <thead>\n",
       "    <tr style=\"text-align: right;\">\n",
       "      <th></th>\n",
       "      <th>name</th>\n",
       "      <th>pos</th>\n",
       "      <th>age</th>\n",
       "      <th>ai</th>\n",
       "      <th>Total_asists</th>\n",
       "      <th>Total_goals</th>\n",
       "      <th>Total_points</th>\n",
       "      <th>games</th>\n",
       "      <th>goals</th>\n",
       "      <th>asists</th>\n",
       "      <th>points</th>\n",
       "      <th>seasons</th>\n",
       "      <th>Mgames</th>\n",
       "      <th>Mshots</th>\n",
       "      <th>Mgoals</th>\n",
       "      <th>Masists</th>\n",
       "      <th>Mgame_coef</th>\n",
       "      <th>Minj</th>\n",
       "    </tr>\n",
       "  </thead>\n",
       "  <tbody>\n",
       "    <tr>\n",
       "      <th>0</th>\n",
       "      <td>Alberts Timanovskis</td>\n",
       "      <td>C</td>\n",
       "      <td>23.0</td>\n",
       "      <td>277.0</td>\n",
       "      <td>17.0</td>\n",
       "      <td>9.0</td>\n",
       "      <td>26.0</td>\n",
       "      <td>135</td>\n",
       "      <td>6</td>\n",
       "      <td>18</td>\n",
       "      <td>24</td>\n",
       "      <td>6.0</td>\n",
       "      <td>22.50</td>\n",
       "      <td>19.00</td>\n",
       "      <td>1.00</td>\n",
       "      <td>3.00</td>\n",
       "      <td>-4.83</td>\n",
       "      <td>2.50</td>\n",
       "    </tr>\n",
       "    <tr>\n",
       "      <th>1</th>\n",
       "      <td>Andris Kraulis</td>\n",
       "      <td>W</td>\n",
       "      <td>20.0</td>\n",
       "      <td>197.0</td>\n",
       "      <td>6.0</td>\n",
       "      <td>2.0</td>\n",
       "      <td>8.0</td>\n",
       "      <td>10</td>\n",
       "      <td>2</td>\n",
       "      <td>1</td>\n",
       "      <td>3</td>\n",
       "      <td>4.0</td>\n",
       "      <td>3.33</td>\n",
       "      <td>3.00</td>\n",
       "      <td>0.67</td>\n",
       "      <td>0.33</td>\n",
       "      <td>-1.33</td>\n",
       "      <td>1.00</td>\n",
       "    </tr>\n",
       "    <tr>\n",
       "      <th>2</th>\n",
       "      <td>Atis Zilgalvis</td>\n",
       "      <td>W</td>\n",
       "      <td>24.0</td>\n",
       "      <td>328.0</td>\n",
       "      <td>9.0</td>\n",
       "      <td>29.0</td>\n",
       "      <td>38.0</td>\n",
       "      <td>194</td>\n",
       "      <td>59</td>\n",
       "      <td>15</td>\n",
       "      <td>74</td>\n",
       "      <td>7.0</td>\n",
       "      <td>27.71</td>\n",
       "      <td>58.14</td>\n",
       "      <td>8.43</td>\n",
       "      <td>2.14</td>\n",
       "      <td>-2.57</td>\n",
       "      <td>0.14</td>\n",
       "    </tr>\n",
       "  </tbody>\n",
       "</table>\n",
       "</div>"
      ],
      "text/plain": [
       "                  name pos   age     ai  Total_asists  Total_goals  \\\n",
       "0  Alberts Timanovskis   C  23.0  277.0          17.0          9.0   \n",
       "1       Andris Kraulis   W  20.0  197.0           6.0          2.0   \n",
       "2       Atis Zilgalvis   W  24.0  328.0           9.0         29.0   \n",
       "\n",
       "   Total_points  games  goals  asists  points  seasons  Mgames  Mshots  \\\n",
       "0          26.0    135      6      18      24      6.0   22.50   19.00   \n",
       "1           8.0     10      2       1       3      4.0    3.33    3.00   \n",
       "2          38.0    194     59      15      74      7.0   27.71   58.14   \n",
       "\n",
       "   Mgoals  Masists  Mgame_coef  Minj  \n",
       "0    1.00     3.00       -4.83  2.50  \n",
       "1    0.67     0.33       -1.33  1.00  \n",
       "2    8.43     2.14       -2.57  0.14  "
      ]
     },
     "execution_count": 44,
     "metadata": {},
     "output_type": "execute_result"
    }
   ],
   "source": [
    "all_together[:3]"
   ]
  },
  {
   "cell_type": "code",
   "execution_count": 45,
   "metadata": {},
   "outputs": [],
   "source": [
    "all_def = all_together.loc[data['pos'] =='D']"
   ]
  },
  {
   "cell_type": "code",
   "execution_count": 46,
   "metadata": {},
   "outputs": [],
   "source": [
    "all_w = all_together.loc[data['pos'] =='W']"
   ]
  },
  {
   "cell_type": "code",
   "execution_count": 47,
   "metadata": {},
   "outputs": [],
   "source": [
    "all_c = all_together.loc[data['pos'] =='C']"
   ]
  },
  {
   "cell_type": "code",
   "execution_count": 52,
   "metadata": {},
   "outputs": [],
   "source": [
    "w = all_w[['pos','age','ai']]\n",
    "d = all_def[['pos','age','ai']]\n",
    "c = all_c[['pos','age','ai']]"
   ]
  },
  {
   "cell_type": "code",
   "execution_count": 49,
   "metadata": {},
   "outputs": [],
   "source": []
  },
  {
   "cell_type": "code",
   "execution_count": 53,
   "metadata": {},
   "outputs": [],
   "source": [
    "dataset = pd.concat([w,c,d])"
   ]
  },
  {
   "cell_type": "markdown",
   "metadata": {},
   "source": [
    "### age and ai"
   ]
  },
  {
   "cell_type": "code",
   "execution_count": 54,
   "metadata": {},
   "outputs": [
    {
     "data": {
      "text/plain": [
       "<seaborn.axisgrid.FacetGrid at 0x1b8de02f6d8>"
      ]
     },
     "execution_count": 54,
     "metadata": {},
     "output_type": "execute_result"
    },
    {
     "data": {
      "image/png": "[encoded data removed]",
      "text/plain": [
       "<Figure size 576x576 with 3 Axes>"
      ]
     },
     "metadata": {},
     "output_type": "display_data"
    }
   ],
   "source": [
    "sns.lmplot(x=\"age\", y=\"ai\", col=\"pos\", hue=\"pos\", data=dataset,\n",
    "           col_wrap=2, ci=None, palette=\"muted\", size=4,\n",
    "           scatter_kws={\"s\": 50, \"alpha\": 1})"
   ]
  },
  {
   "cell_type": "markdown",
   "metadata": {},
   "source": [
    "### Total points and AI"
   ]
  },
  {
   "cell_type": "code",
   "execution_count": 58,
   "metadata": {},
   "outputs": [],
   "source": [
    "w = all_w[['pos','Total_points','ai']]\n",
    "d = all_def[['pos','Total_points','ai']]\n",
    "c = all_c[['pos','Total_points','ai']]"
   ]
  },
  {
   "cell_type": "code",
   "execution_count": 61,
   "metadata": {},
   "outputs": [],
   "source": [
    "dataset = pd.concat([w,c,d])"
   ]
  },
  {
   "cell_type": "code",
   "execution_count": 64,
   "metadata": {},
   "outputs": [
    {
     "data": {
      "image/png": "[encoded data removed]",
      "text/plain": [
       "<Figure size 576x576 with 3 Axes>"
      ]
     },
     "metadata": {},
     "output_type": "display_data"
    }
   ],
   "source": [
    "sns_plot = sns.lmplot(x=\"ai\", y=\"Total_points\", col=\"pos\", hue=\"pos\", data=dataset,\n",
    "           col_wrap=2, ci=None, palette=\"muted\", size=4,\n",
    "           scatter_kws={\"s\": 50, \"alpha\": 1})"
   ]
  },
  {
   "cell_type": "code",
   "execution_count": 65,
   "metadata": {},
   "outputs": [],
   "source": [
    "sns_plot.savefig(\"clean_data/total_points.png\")"
   ]
  },
  {
   "cell_type": "code",
   "execution_count": null,
   "metadata": {},
   "outputs": [],
   "source": []
  }
 ],
 "metadata": {
  "kernelspec": {
   "display_name": "Python 3",
   "language": "python",
   "name": "python3"
  },
  "language_info": {
   "codemirror_mode": {
    "name": "ipython",
    "version": 3
   },
   "file_extension": ".py",
   "mimetype": "text/x-python",
   "name": "python",
   "nbconvert_exporter": "python",
   "pygments_lexer": "ipython3",
   "version": "3.6.5"
  }
 },
 "nbformat": 4,
 "nbformat_minor": 2
}
